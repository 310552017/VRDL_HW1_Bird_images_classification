{
 "cells": [
  {
   "cell_type": "markdown",
   "metadata": {},
   "source": [
    "# Data Preprocessing"
   ]
  },
  {
   "cell_type": "code",
   "execution_count": null,
   "metadata": {},
   "outputs": [],
   "source": [
    "import torch\n",
    "import torch.nn as nn\n",
    "import torch.nn.functional as F\n",
    "import torch.optim as optim\n",
    "import torch.optim.lr_scheduler as lr_scheduler\n",
    "from torch.optim.lr_scheduler import _LRScheduler\n",
    "import torch.utils.data as data\n",
    "\n",
    "import torchvision.transforms as transforms\n",
    "import torchvision.datasets as datasets\n",
    "import torchvision.models as models\n",
    "\n",
    "from sklearn import decomposition\n",
    "from sklearn import manifold\n",
    "from sklearn.metrics import confusion_matrix\n",
    "from sklearn.metrics import ConfusionMatrixDisplay\n",
    "import matplotlib.pyplot as plt\n",
    "import numpy as np\n",
    "\n",
    "import copy\n",
    "from collections import namedtuple\n",
    "import os\n",
    "import random\n",
    "import shutil\n",
    "import time\n",
    "\n",
    "\n",
    "device = torch.device('cuda' if torch.cuda.is_available() else 'cpu')\n"
   ]
  },
  {
   "cell_type": "markdown",
   "metadata": {},
   "source": [
    "# Get all type of classes of the bird images. "
   ]
  },
  {
   "cell_type": "code",
   "execution_count": null,
   "metadata": {},
   "outputs": [],
   "source": [
    "ROOT = \"C:\\\\Users\\\\User\\\\Downloads\\\\pytorch_pratice\\\\data\"\n",
    "\n",
    "images_dir = os.path.join(ROOT, 'images')\n",
    "train_dir = os.path.join(images_dir, 'training_images')\n",
    "train_labeled_dir = os.path.join(images_dir, '')\n",
    "test_dir = os.path.join(images_dir, 'testing_images')\n",
    "test_labeled_dir = os.path.join(images_dir, 'testing_labeled_images')\n",
    "\n",
    "with open('classes.txt', 'r') as f:\n",
    "    classes = f.read().splitlines()\n"
   ]
  },
  {
   "cell_type": "markdown",
   "metadata": {},
   "source": [
    "# Using image label to create corresponding training and testing image dir."
   ]
  },
  {
   "cell_type": "code",
   "execution_count": null,
   "metadata": {},
   "outputs": [],
   "source": [
    "for c in classes:\n",
    "    train_class_dir = os.path.join(train_labeled_dir, c)\n",
    "    os.makedirs(train_class_dir, exist_ok=True)\n",
    "    test_class_dir = os.path.join(test_labeled_dir, c)\n",
    "    os.makedirs(test_class_dir, exist_ok=True)\n"
   ]
  },
  {
   "cell_type": "markdown",
   "metadata": {},
   "source": [
    "# Put the image into dir according to their labels."
   ]
  },
  {
   "cell_type": "code",
   "execution_count": null,
   "metadata": {},
   "outputs": [],
   "source": [
    "train_image_array = []\n",
    "train_image_dir_array = []\n",
    "test_image_array = []\n",
    "test_image_dir_array = []\n",
    "train_image = os.listdir(train_dir)\n",
    "train_index = 0\n",
    "test_index = 0\n",
    "\n",
    "\n",
    "with open('training_labels.txt', 'r') as f2:\n",
    "    for line in f2:\n",
    "        linesplit = line.strip().split()\n",
    "        train_image_array.append(linesplit[0])\n",
    "        train_image_dir_array.append(linesplit[1])\n",
    "\n",
    "with open('testing_labels.txt', 'r') as f3:\n",
    "    for line in f3:\n",
    "        linesplit = line.strip().split()\n",
    "        test_image_array.append(linesplit[0])\n",
    "        test_image_dir_array.append(linesplit[1])\n",
    "\n",
    "for i in train_image_array:\n",
    "    image_src = os.path.join(train_dir, i)\n",
    "    image_dst = os.path.join(train_labeled_dir,\n",
    "                             train_image_dir_array[train_index], i)\n",
    "    shutil.copyfile(image_src, image_dst)\n",
    "    train_index = train_index + 1\n",
    "\n",
    "for j in test_image_array:\n",
    "    image_src = os.path.join(test_dir, j)\n",
    "    image_dst = os.path.join(test_labeled_dir,\n",
    "                             test_image_dir_array[test_index], j)\n",
    "    shutil.copyfile(image_src, image_dst)\n",
    "    test_index = test_index + 1\n"
   ]
  }
 ],
 "metadata": {
  "kernelspec": {
   "display_name": "Python 3",
   "language": "python",
   "name": "python3"
  },
  "language_info": {
   "codemirror_mode": {
    "name": "ipython",
    "version": 3
   },
   "file_extension": ".py",
   "mimetype": "text/x-python",
   "name": "python",
   "nbconvert_exporter": "python",
   "pygments_lexer": "ipython3",
   "version": "3.7.3"
  }
 },
 "nbformat": 4,
 "nbformat_minor": 2
}
